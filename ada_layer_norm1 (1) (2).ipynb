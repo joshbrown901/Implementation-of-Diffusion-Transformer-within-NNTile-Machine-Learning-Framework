{
 "cells": [
  {
   "cell_type": "code",
   "execution_count": 139,
   "id": "71d40096-b0f0-4cc5-abcc-ed3c3788ccd3",
   "metadata": {},
   "outputs": [],
   "source": [
    "import torch\n",
    "from torch.nn import LayerNorm as LayerNormTorch"
   ]
  },
  {
   "cell_type": "code",
   "execution_count": 140,
   "id": "d32beec9-67ef-4c73-8399-fea9b24cec0e",
   "metadata": {},
   "outputs": [],
   "source": [
    "import nntile"
   ]
  },
  {
   "cell_type": "code",
   "execution_count": 141,
   "id": "39db9cba-d624-4f17-8684-2d27e3079a78",
   "metadata": {},
   "outputs": [],
   "source": [
    "import numpy as np"
   ]
  },
  {
   "cell_type": "code",
   "execution_count": 142,
   "id": "fa150e62-1208-4a9f-b48f-b16e0870ec26",
   "metadata": {},
   "outputs": [],
   "source": [
    "nntile_config = nntile.starpu.Config(1,0,0,0)"
   ]
  },
  {
   "cell_type": "code",
   "execution_count": 143,
   "id": "b1f6ab72-ec9d-4dc3-b217-996af187e839",
   "metadata": {},
   "outputs": [],
   "source": [
    "nntile.starpu.init()"
   ]
  },
  {
   "cell_type": "code",
   "execution_count": 144,
   "id": "d2ba8c21-8e57-478e-96b5-203527452cb4",
   "metadata": {},
   "outputs": [],
   "source": [
    "import nntile.utils.constructors as nntc\n",
    "from nntile.layer.base_layer import BaseLayer\n",
    "from nntile.tensor import (\n",
    "    Tensor, TensorMoments, TensorTraits, add_fiber_inplace_async,\n",
    "    add_inplace_async, add_slice_async, add_slice_inplace_async, clear_async,\n",
    "    fill_async, hypot_scalar_inverse_async, norm_slice_async,\n",
    "    prod_fiber3_async, prod_slice_async, sum_fiber_async, sum_slice_async,\n",
    "    sumprod_fiber_async, sumprod_slice_async)"
   ]
  },
  {
   "cell_type": "code",
   "execution_count": 166,
   "id": "96c1beaa-98e1-4efe-975c-c396d23a86c3",
   "metadata": {},
   "outputs": [],
   "source": [
    "# ADAPTIVE LAYER NORMALIZATION NUMPY IMPLEMENTATION (BASIC)\n",
    "def adaptive_layer_norm_numpy(x, gamma, beta, eps=1e-5, axis=-1):\n",
    "    mean = np.mean(x, axis=axis, keepdims=True)\n",
    "    var = np.var(x, axis=axis, keepdims=True)\n",
    "    norm_x = (x - mean) / np.sqrt(var + eps)\n",
    "    out = norm_x * gamma + beta\n",
    "    return out"
   ]
  },
  {
   "cell_type": "code",
   "execution_count": 156,
   "id": "4537435f-7117-4731-b1a2-86a96813007d",
   "metadata": {},
   "outputs": [
    {
     "name": "stdout",
     "output_type": "stream",
     "text": [
      "Normalized output:\n",
      " [[-0.07900015 -1.00407124  0.14094753  1.41619229 -1.14376765 -1.14374373\n",
      "   1.49804267  0.31540028]\n",
      " [ 0.16641908  1.4389799   0.17403494  0.17112769  1.06099973 -1.64906339\n",
      "  -1.41221115  0.0497132 ]\n",
      " [-0.66614918  0.7578747  -0.55368579 -1.09480394  1.99338804  0.17840138\n",
      "   0.4931323  -1.10815751]\n",
      " [-0.50911118  0.25246726 -1.2140982   0.56018223 -0.57449037 -0.21544276\n",
      "  -0.57573148  2.2762245 ]]\n"
     ]
    }
   ],
   "source": [
    "# EXAMPLE USAGE\n",
    "np.random.seed(42)\n",
    "x_input = np.random.randn(4, 8)\n",
    "gamma = np.ones((8,))\n",
    "beta = np.zeros((8,))\n",
    "\n",
    "output_np = adaptive_layer_norm_numpy(x_input, gamma, beta)\n",
    "print(\"Normalized output:\\n\", output_np)"
   ]
  },
  {
   "cell_type": "code",
   "execution_count": 196,
   "id": "f2ea1d48-3d12-4499-9db0-693ed2724bb2",
   "metadata": {},
   "outputs": [
    {
     "name": "stdout",
     "output_type": "stream",
     "text": [
      "Normalized output:\n",
      "[[-0.07900018 -1.0040712   0.14094757  1.4161922  -1.1437677  -1.1437438\n",
      "   1.4980427   0.31540024]\n",
      " [ 0.1664191   1.4389799   0.17403495  0.1711277   1.0609996  -1.6490633\n",
      "  -1.4122112   0.04971324]\n",
      " [-0.66614914  0.75787467 -0.5536858  -1.0948039   1.993388    0.17840135\n",
      "   0.4931323  -1.1081575 ]\n",
      " [-0.5091112   0.25246724 -1.2140982   0.5601822  -0.57449037 -0.21544276\n",
      "  -0.5757315   2.2762246 ]]\n"
     ]
    }
   ],
   "source": [
    "# ADAPTIVE LAYER NORMALIZATION NUMPY IMPLEMENTATION (Basic - Object-Oriented Programming)\n",
    "\n",
    "import numpy as np\n",
    "\n",
    "class AdaptiveLayerNormNumpy:\n",
    "    def __init__(self, embedding_dim, eps=1e-5):\n",
    "        self.embedding_dim = embedding_dim\n",
    "        self.eps = eps\n",
    "        self.gamma = np.ones((1, embedding_dim), dtype=np.float32)  # Scale factor\n",
    "        self.beta = np.zeros((1, embedding_dim), dtype=np.float32)  # Shift factor\n",
    "\n",
    "    def forward(self, x):\n",
    "        mean = np.mean(x, axis=-1, keepdims=True)\n",
    "        var = np.var(x, axis=-1, keepdims=True)\n",
    "        norm_x = (x - mean) / np.sqrt(var + self.eps)\n",
    "        return norm_x * self.gamma + self.beta\n",
    "\n",
    "# Example usage\n",
    "if __name__ == \"__main__\":\n",
    "    batch_size = 4\n",
    "    embed_dim = 8\n",
    "    np.random.seed(42)\n",
    "    x = np.random.randn(batch_size, embed_dim).astype(np.float32)\n",
    "    layer_norm = AdaptiveLayerNormNumpy(embed_dim)\n",
    "    output = layer_norm.forward(x)\n",
    "\n",
    "    print(\"Normalized output:\")\n",
    "    print(output)"
   ]
  },
  {
   "cell_type": "code",
   "execution_count": null,
   "id": "1102fbbb-3669-411f-9d21-e43779daa6b1",
   "metadata": {},
   "outputs": [],
   "source": []
  },
  {
   "cell_type": "code",
   "execution_count": 197,
   "id": "0ff2973b-4b63-46cd-b433-80c4c6fa9fc9",
   "metadata": {},
   "outputs": [],
   "source": [
    "# ADAPTIVE LAYER NORMALIZATION NNTile IMPLEMENTATION (BASIC1)\n",
    "import torch\n",
    "from torch.nn import LayerNorm as LayerNormTorch\n",
    "\n",
    "import nntile.utils.constructors as nntc\n",
    "from nntile.layer.base_layer import BaseLayer\n",
    "from nntile.tensor import (\n",
    "    Tensor, TensorMoments, TensorTraits, add_fiber_inplace_async,\n",
    "    add_inplace_async, add_slice_async, add_slice_inplace_async, clear_async,\n",
    "    fill_async, hypot_scalar_inverse_async, norm_slice_async,\n",
    "    prod_fiber3_async, prod_slice_async, sum_fiber_async, sum_slice_async,\n",
    "    sumprod_fiber_async, sumprod_slice_async)"
   ]
  },
  {
   "cell_type": "code",
   "execution_count": 198,
   "id": "9c5d2f4a-6152-4658-8c57-6ceaacaa6881",
   "metadata": {},
   "outputs": [],
   "source": [
    "def adaptive_layer_norm_nntile(x, tmp_y, y, gamma, beta, eps=1e-6, axis=-1):\n",
    "    mean = np.mean(x, axis=axis, keepdims=True)\n",
    "    mean1 = mean.reshape(mean.shape[:-1])\n",
    "    mean_nnt = nntc.from_array(mean1)\n",
    "    iv_std = 1.0/np.sqrt(np.var(x, axis=axis, keepdims=True)+eps)\n",
    "    iv_std1 = iv_std.reshape(iv_std.shape[:-1])\n",
    "    iv_std_nnt = nntc.from_array(iv_std1)\n",
    "    x_nnt = nntc.from_array(x)\n",
    "    tmp_y_nnt = nntc.from_array(tmp_y)\n",
    "    y_nnt = nntc.from_array(y)\n",
    "    gamma_nnt = nntc.from_array(gamma)\n",
    "    beta_nnt = nntc.from_array(beta)\n",
    "    add_slice_async(-1.0, mean_nnt, 1.0, x_nnt, tmp_y_nnt, len(x.shape)-1)\n",
    "    prod_slice_async(iv_std_nnt, 1.0, tmp_y_nnt, len(x.shape)-1)\n",
    "    prod_fiber3_async(gamma_nnt, 1.0, tmp_y_nnt, y_nnt, len(x.shape)-1)\n",
    "    add_fiber_inplace_async(1.0, beta_nnt, 1.0, y_nnt, len(x.shape)-1, 0)\n",
    "    res = nntc.to_numpy(y_nnt)\n",
    "    return res  "
   ]
  },
  {
   "cell_type": "code",
   "execution_count": 199,
   "id": "da8d0203-ca82-4860-b1f4-472a6834f7ba",
   "metadata": {},
   "outputs": [
    {
     "name": "stdout",
     "output_type": "stream",
     "text": [
      "2\n",
      "(4, 1)\n",
      "[ 0.55094068 -0.60182314 -0.39203238 -0.10631457]\n",
      "Normalized output:\n",
      " [[-0.07900091 -1.00408083  0.14094888  1.41620581 -1.14377857 -1.14375465\n",
      "   1.49805698  0.31540329]\n",
      " [ 0.16642026  1.43899014  0.17403618  0.17112891  1.06100728 -1.64907512\n",
      "  -1.41222119  0.04971355]\n",
      " [-0.66615263  0.75787862 -0.55368866 -1.09480961  1.99339837  0.17840231\n",
      "   0.49313486 -1.10816326]\n",
      " [-0.50911427  0.25246879 -1.21410558  0.56018564 -0.57449386 -0.21544407\n",
      "  -0.57573498  2.27623833]]\n"
     ]
    }
   ],
   "source": [
    "# EXAMPLE USAGE\n",
    "np.random.seed(42)\n",
    "x = np.random.randn(4, 8)\n",
    "print(len(x.shape))\n",
    "mean = np.mean(x, axis=-1, keepdims=True)\n",
    "print(mean.shape)\n",
    "mean1 = mean.reshape(mean.shape[:-1])\n",
    "print(mean1)\n",
    "tmp_y = np.random.randn(4,8)\n",
    "y = np.random.randn(4,8)\n",
    "gamma = np.ones((8,))\n",
    "beta = np.zeros((8,))\n",
    "\n",
    "output_nnt = adaptive_layer_norm_nntile(x, tmp_y, y, gamma, beta, eps=1e-6, axis=-1)\n",
    "print(\"Normalized output:\\n\", output_nnt)"
   ]
  },
  {
   "cell_type": "code",
   "execution_count": 200,
   "id": "c54a82ac-a932-4ec6-ae47-e64985917aeb",
   "metadata": {},
   "outputs": [],
   "source": [
    "# ADAPTIVE LAYER NORMALIZATION NNTile IMPLEMENTATION (BASIC1 - Object-Oriented Programming)\n",
    "class AdaptiveLayerNormNNtile:\n",
    "    def __init__(self, embedding_dim, eps=1e-5):\n",
    "        self.embedding_dim = embedding_dim\n",
    "        self.eps = eps\n",
    "        self.gamma = np.ones((embed_dim,)).astype(np.float32)  # Scale factor\n",
    "        self.beta = np.zeros((embed_dim,)).astype(np.float32)  # Shift factor\n",
    "\n",
    "    def forward(self, x):\n",
    "        mean = np.mean(x, axis=-1, keepdims=True)\n",
    "        mean1 = mean.reshape(mean.shape[:-1])\n",
    "        mean_nnt = nntc.from_array(mean1)\n",
    "        iv_std = 1.0/np.sqrt(np.var(x, axis=-1, keepdims=True)+1e-5)\n",
    "        iv_std1 = iv_std.reshape(iv_std.shape[:-1])\n",
    "        iv_std_nnt = nntc.from_array(iv_std1)\n",
    "        x_nnt = nntc.from_array(x)\n",
    "        tmp_y_nnt = nntc.from_array(tmp_y)\n",
    "        y_nnt = nntc.from_array(y)\n",
    "        gamma_nnt = nntc.from_array(self.gamma)\n",
    "        beta_nnt = nntc.from_array(self.beta)\n",
    "        add_slice_async(-1.0, mean_nnt, 1.0, x_nnt, tmp_y_nnt, len(x.shape)-1)\n",
    "        prod_slice_async(iv_std_nnt, 1.0, tmp_y_nnt, len(x.shape)-1)\n",
    "        prod_fiber3_async(gamma_nnt, 1.0, tmp_y_nnt, y_nnt, len(x.shape)-1)\n",
    "        add_fiber_inplace_async(1.0, beta_nnt, 1.0, y_nnt, len(x.shape)-1, 0)\n",
    "        res = nntc.to_numpy(y_nnt)\n",
    "        return res  "
   ]
  },
  {
   "cell_type": "code",
   "execution_count": 201,
   "id": "24908529-0fa7-4337-9a7c-ab4b55ee2df1",
   "metadata": {},
   "outputs": [
    {
     "name": "stdout",
     "output_type": "stream",
     "text": [
      "Normalized output:\n",
      "[[-0.07900018 -1.0040712   0.14094757  1.4161922  -1.1437677  -1.1437438\n",
      "   1.4980427   0.31540024]\n",
      " [ 0.1664191   1.4389799   0.17403495  0.1711277   1.0609996  -1.6490633\n",
      "  -1.4122112   0.04971324]\n",
      " [-0.66614914  0.75787467 -0.5536858  -1.0948039   1.993388    0.17840135\n",
      "   0.4931323  -1.1081575 ]\n",
      " [-0.5091112   0.25246724 -1.2140982   0.5601822  -0.57449037 -0.21544276\n",
      "  -0.5757315   2.2762246 ]]\n"
     ]
    }
   ],
   "source": [
    "# EXAMPLE USAGE\n",
    "batch_size = 4\n",
    "embed_dim = 8\n",
    "np.random.seed(42)\n",
    "x = np.random.randn(batch_size, embed_dim).astype(np.float32)\n",
    "tmp_y = np.random.randn(batch_size,embed_dim).astype(np.float32)\n",
    "y = np.random.randn(batch_size,embed_dim).astype(np.float32)\n",
    "# gamma = np.ones((embed_dim,)).astype(np.float32)\n",
    "# beta = np.zeros((embed_dim,)).astype(np.float32)\n",
    "layer_norm = AdaptiveLayerNormNNtile(embed_dim)\n",
    "output_nnt = layer_norm.forward(x)\n",
    "print(\"Normalized output:\")\n",
    "print(output)\n",
    "# output_nnt = adaptive_layer_norm_nntile(x, tmp_y, y, gamma, beta, eps=1e-6, axis=-1)\n",
    "# print(\"Normalized output:\\n\", output_nnt)"
   ]
  },
  {
   "cell_type": "code",
   "execution_count": null,
   "id": "972a193b-ad59-45db-9f12-c954862b1f8f",
   "metadata": {},
   "outputs": [],
   "source": []
  },
  {
   "cell_type": "code",
   "execution_count": null,
   "id": "739667d8-66ea-4638-906e-13d969a7da1e",
   "metadata": {},
   "outputs": [],
   "source": []
  },
  {
   "cell_type": "code",
   "execution_count": 203,
   "id": "d9f93a79-11f0-44ea-9673-aeb08f108e1f",
   "metadata": {},
   "outputs": [
    {
     "name": "stdout",
     "output_type": "stream",
     "text": [
      "3.8233305e-15\n"
     ]
    }
   ],
   "source": [
    "#ACCURACY METRICS:\n",
    "#1) Mean Squared Error\n",
    "import numpy as np\n",
    "def mse(tensor1, tensor2):\n",
    "    return np.mean((tensor1 - tensor2) ** 2)\n",
    "print(mse(output, output_nnt))  # Lower is better"
   ]
  },
  {
   "cell_type": "code",
   "execution_count": 205,
   "id": "37d3e752-7517-4d53-bab2-1c2b284a70ba",
   "metadata": {},
   "outputs": [
    {
     "name": "stdout",
     "output_type": "stream",
     "text": [
      "3.213063e-08\n"
     ]
    }
   ],
   "source": [
    "#2) Mean Absolute Error\n",
    "def mae(tensor1, tensor2):\n",
    "    return np.mean(np.abs(tensor1 - tensor2))\n",
    "print(mae(output, output_nnt))"
   ]
  },
  {
   "cell_type": "code",
   "execution_count": 207,
   "id": "51570d1f-f646-4c42-84e8-a2bc5feb6cae",
   "metadata": {},
   "outputs": [
    {
     "name": "stdout",
     "output_type": "stream",
     "text": [
      "1.0\n"
     ]
    }
   ],
   "source": [
    "#3) Cosine Similarity\n",
    "from numpy.linalg import norm\n",
    "def cosine_similarity(tensor1, tensor2):\n",
    "    return np.dot(tensor1.flatten(), tensor2.flatten()) / (norm(tensor1) * norm(tensor2) + 1e-6)\n",
    "print(cosine_similarity(output, output_nnt))  # Closer to 1 is better"
   ]
  },
  {
   "cell_type": "code",
   "execution_count": 208,
   "id": "f2c99a99-80a6-43f8-b82f-30d3dfc3b074",
   "metadata": {},
   "outputs": [
    {
     "name": "stdout",
     "output_type": "stream",
     "text": [
      "0.9999999999999984\n"
     ]
    }
   ],
   "source": [
    "#5) Pearson\n",
    "def pearson_corr(tensor1, tensor2):\n",
    "    return np.corrcoef(tensor1.flatten(), tensor2.flatten())[0, 1]\n",
    "print(pearson_corr(output, output_nnt))"
   ]
  },
  {
   "cell_type": "code",
   "execution_count": 209,
   "id": "79526320-4980-4213-9a63-2152394d41d4",
   "metadata": {},
   "outputs": [
    {
     "name": "stdout",
     "output_type": "stream",
     "text": [
      "Requirement already satisfied: matplotlib in /usr/local/lib/python3.10/dist-packages (3.10.1)\n",
      "Requirement already satisfied: fonttools>=4.22.0 in /usr/local/lib/python3.10/dist-packages (from matplotlib) (4.56.0)\n",
      "Requirement already satisfied: kiwisolver>=1.3.1 in /usr/local/lib/python3.10/dist-packages (from matplotlib) (1.4.8)\n",
      "Requirement already satisfied: cycler>=0.10 in /usr/local/lib/python3.10/dist-packages (from matplotlib) (0.12.1)\n",
      "Requirement already satisfied: packaging>=20.0 in /usr/local/lib/python3.10/dist-packages (from matplotlib) (24.2)\n",
      "Requirement already satisfied: python-dateutil>=2.7 in /usr/local/lib/python3.10/dist-packages (from matplotlib) (2.9.0.post0)\n",
      "Requirement already satisfied: pillow>=8 in /usr/local/lib/python3.10/dist-packages (from matplotlib) (11.1.0)\n",
      "Requirement already satisfied: contourpy>=1.0.1 in /usr/local/lib/python3.10/dist-packages (from matplotlib) (1.3.1)\n",
      "Requirement already satisfied: pyparsing>=2.3.1 in /usr/local/lib/python3.10/dist-packages (from matplotlib) (3.2.1)\n",
      "Requirement already satisfied: numpy>=1.23 in /usr/local/lib/python3.10/dist-packages (from matplotlib) (2.0.2)\n",
      "Requirement already satisfied: six>=1.5 in /usr/local/lib/python3.10/dist-packages (from python-dateutil>=2.7->matplotlib) (1.17.0)\n",
      "\u001b[33mWARNING: Running pip as the 'root' user can result in broken permissions and conflicting behaviour with the system package manager. It is recommended to use a virtual environment instead: https://pip.pypa.io/warnings/venv\u001b[0m\u001b[33m\n",
      "Note: you may need to restart the kernel to use updated packages.\n"
     ]
    }
   ],
   "source": [
    "pip install matplotlib"
   ]
  },
  {
   "cell_type": "code",
   "execution_count": 211,
   "id": "a47f3e88-5dec-488e-bb21-d7d7226c6e3f",
   "metadata": {},
   "outputs": [
    {
     "data": {
      "image/png": "[encoded data removed]",
      "text/plain": [
       "<Figure size 1400x800 with 1 Axes>"
      ]
     },
     "metadata": {},
     "output_type": "display_data"
    }
   ],
   "source": [
    "#Forward Graph-PLot-Numpy vs NNTile\n",
    "import numpy as np\n",
    "import torch\n",
    "import matplotlib.pyplot as plt\n",
    "#from skimage.metrics import structural_similarity as ssim\n",
    "from scipy.stats import pearsonr\n",
    "from torch.nn.functional import cosine_similarity\n",
    "\n",
    "# Function to compute Mean Squared Error\n",
    "def mse(tensor1, tensor2):\n",
    "    return np.mean((tensor1 - tensor2) ** 2)\n",
    "\n",
    "# Function to compute Mean Absolute Error\n",
    "def mae(tensor1, tensor2):\n",
    "    return np.mean(np.abs(tensor1 - tensor2))\n",
    "\n",
    "# Function to compute Cosine Similarity\n",
    "from numpy.linalg import norm\n",
    "def cosine_similarity(tensor1, tensor2):\n",
    "    return np.dot(tensor1.flatten(), tensor2.flatten()) / (norm(tensor1) * norm(tensor2) + 1e-6)\n",
    "\n",
    "# Function to compute Pearson Correlation\n",
    "def pearson_corr(tensor1, tensor2):\n",
    "    return np.corrcoef(tensor1.flatten(), tensor2.flatten())[0, 1]\n",
    "\n",
    "# Function to compute Structural Similarity Index (SSIM)\n",
    "# def compute_ssim(tensor1, tensor2):\n",
    "#     return ssim(tensor1, tensor2, data_range=tensor2.max() - tensor2.min())\n",
    "\n",
    "# Increasing dimensions\n",
    "dimensions = [4, 16, 32, 64, 128, 256, 512, 1024, 2048, 4096]\n",
    "\n",
    "# Store accuracy values\n",
    "mse_values = []\n",
    "mae_values = []\n",
    "cosine_values = []\n",
    "pearson_values = []\n",
    "#ssim_values = []\n",
    "\n",
    "# Generate tensors and compute metrics\n",
    "for dim in dimensions:\n",
    "    np.random.seed(42)\n",
    "    x = np.random.randn(dim, dim)\n",
    "    tmp_y = np.random.randn(dim,dim)\n",
    "    y = np.random.randn(dim,dim)\n",
    "    gamma = np.ones((dim,))\n",
    "    beta = np.zeros((dim,))\n",
    "    output_np = adaptive_layer_norm_numpy(x, gamma, beta)\n",
    "    output_nnt = adaptive_layer_norm_nntile(x, tmp_y, y, gamma, beta, eps=1e-6, axis=-1)\n",
    "    # tensor1 = np.random.randn(dim, dim).astype(np.float32)\n",
    "    # tensor2 = tensor1 + np.random.randn(dim, dim) * 0.1  # Adding slight noise\n",
    "    mse_values.append(mse(output_np, output_nnt))\n",
    "    mae_values.append(mae(output_np, output_nnt))\n",
    "    cosine_values.append(cosine_similarity(output_np, output_nnt))\n",
    "    pearson_values.append(pearson_corr(output_np, output_nnt))\n",
    "    #ssim_values.append(compute_ssim(tensor1, tensor2))\n",
    "\n",
    "# Plot Accuracy vs. Number of Dimensions\n",
    "plt.figure(figsize=(14, 8))\n",
    "\n",
    "plt.plot(dimensions, mse_values, marker='o', linestyle='-', label=\"mse\", color='r')\n",
    "plt.plot(dimensions, mae_values, marker='o', linestyle='-', label=\"mae\", color='g')\n",
    "plt.plot(dimensions, cosine_values, marker='o', linestyle='-', label=\"Cosine Similarity\", color='r')\n",
    "plt.plot(dimensions, pearson_values, marker='s', linestyle='-', label=\"Pearson Correlation\", color='b')\n",
    "#plt.plot(dimensions, ssim_values, marker='d', linestyle='-', label=\"SSIM\", color='r')\n",
    "\n",
    "plt.xlabel(\"Number of Dimensions\")\n",
    "plt.ylabel(\"Accuracy (Similarity Score)\")\n",
    "plt.title(\"Accuracy vs. Number of Dimensions\")\n",
    "plt.legend()\n",
    "plt.grid()\n",
    "plt.show()"
   ]
  },
  {
   "cell_type": "code",
   "execution_count": 212,
   "id": "35070c66-8b13-48ba-bbe8-c75e1d94c233",
   "metadata": {},
   "outputs": [],
   "source": [
    "# Adaptive Layer Normalization Numpy (Main Implementation)\n",
    "import numpy as np\n",
    "\n",
    "def silu(x):\n",
    "    return x * (1.0 / (1.0 + np.exp(-x)))\n",
    "\n",
    "def layer_norm(x, axis=-1, eps=1e-6):\n",
    "    mean = np.mean(x, axis=axis, keepdims=True)\n",
    "    var = np.var(x, axis=axis, keepdims=True)\n",
    "    return (x - mean) / np.sqrt(var + eps)\n",
    "\n",
    "class AdaptiveLayerNormZeroNumpy:\n",
    "    def __init__(self, embedding_dim, bias=True):\n",
    "        self.embedding_dim = embedding_dim\n",
    "        self.bias_flag = bias\n",
    "        self.W = np.random.randn(6 * embedding_dim, embedding_dim).astype(np.float32)\n",
    "        if bias:\n",
    "            self.b = np.random.randn(6 * embedding_dim).astype(np.float32)\n",
    "        else:\n",
    "            self.b = None\n",
    "\n",
    "    def linear(self, x):\n",
    "        out = np.dot(x, self.W.T)\n",
    "        if self.bias_flag and self.b is not None:\n",
    "            out = out + self.b\n",
    "        return out\n",
    "\n",
    "    def forward(self, x, emb):\n",
    "        activated_emb = silu(emb)\n",
    "        lin_out = self.linear(activated_emb)  \n",
    "        chunks = np.split(lin_out, 6, axis=1)\n",
    "        shift_msa, scale_msa, gate_msa, shift_mlp, scale_mlp, gate_mlp = chunks\n",
    "        norm_x = layer_norm(x, axis=-1, eps=1e-6)\n",
    "        x_out = norm_x * (1 + scale_msa) + shift_msa\n",
    "        \n",
    "        return x_out, gate_msa, shift_mlp, scale_mlp, gate_mlp"
   ]
  },
  {
   "cell_type": "code",
   "execution_count": 213,
   "id": "9767ef3d-e2a1-4227-ad58-2eda7426c892",
   "metadata": {},
   "outputs": [
    {
     "name": "stdout",
     "output_type": "stream",
     "text": [
      "Output after adaptive layer normalization (NumPy):\n",
      "[[-0.97028106 -4.4154916   0.6177989   1.4213154  -5.2005672   0.9943297\n",
      "  -1.9142547   0.96002084]\n",
      " [ 1.5100112  -2.829732    0.43811035 -0.25721028  2.9262955  -1.9289116\n",
      "  -0.62733406 -1.2002949 ]\n",
      " [-0.91099644 -3.7880785   0.6780937   0.35873395  7.8668194  -0.5025041\n",
      "  -1.0716336  -1.3217349 ]\n",
      " [-1.0746773  -0.71024644  1.1459168   1.9817605  -1.6744788   1.4462551\n",
      "  -2.3191943   1.6922414 ]]\n",
      "gate_msa:\n",
      "[[-0.06117916 -0.06997404 -0.30707735  0.88067013 -0.5081278   0.64808494\n",
      "  -0.18654944 -3.0348396 ]\n",
      " [-0.88068235  0.7265208   1.289567   -1.2174855  -0.19440359  0.48698002\n",
      "  -0.8397361  -2.3659282 ]\n",
      " [-0.23199075  0.42254692 -0.03831857 -1.2650453  -0.7041243   0.50829417\n",
      "  -1.101046   -3.984528  ]\n",
      " [ 0.7533198   0.61761516  0.5402827   0.9408478  -1.0901275   0.6611101\n",
      "   1.211527   -2.3183763 ]]\n",
      "shift_mlp:\n",
      "[[-0.59400797  2.4008093   1.0521076   1.64451     0.31480193  0.40895754\n",
      "   4.2330523   1.6819515 ]\n",
      " [-1.028963   -0.0745194   1.9935439   0.30457523  0.08781937  1.3697152\n",
      "   3.8837898   1.2599487 ]\n",
      " [-4.0748816   2.4564958   1.131738   -0.88881946  1.1112847   1.4100895\n",
      "   3.7405539   1.1986046 ]\n",
      " [ 0.24169672  0.96774095  1.5891446  -1.2836775   0.32820138  0.4701733\n",
      "   2.567565    0.91886616]]\n",
      "scale_mlp:\n",
      "[[-1.3990481  -1.0030476  -1.3972673  -0.2509948  -0.5620339  -1.9017655\n",
      "  -1.3077831   0.9211352 ]\n",
      " [ 0.72958404 -0.6199979  -2.2722518   1.5983824  -0.8466236  -1.1906222\n",
      "  -2.3448744  -0.30665165]\n",
      " [ 0.4147629  -0.4976792  -1.3922067   1.2970725  -0.8075226  -1.9343843\n",
      "   0.6726969  -2.4270978 ]\n",
      " [ 0.8425688  -2.0179963  -1.4715607  -1.32956    -1.4978026  -1.6485399\n",
      "  -0.9383242  -0.54240906]]\n",
      "gate_mlp:\n",
      "[[ 1.8771046   0.83616656  0.23503642  1.3988606   0.6776517  -1.3244945\n",
      "   3.1569552  -1.1275373 ]\n",
      " [ 1.4840326   1.5307417  -0.8114694   1.166672    0.6175371  -1.7117772\n",
      "   1.5020949   0.2493701 ]\n",
      " [ 0.46774924  2.105952   -0.7369508   2.2896476   1.2565376  -4.573646\n",
      "  -0.6956316   0.46345395]\n",
      " [ 3.239625    0.75886744  0.8716012   1.0125802  -0.78214645 -0.05798346\n",
      "   2.1412168   0.32701048]]\n"
     ]
    }
   ],
   "source": [
    "import numpy as np\n",
    "\n",
    "if __name__ == \"__main__\":\n",
    "  \n",
    "    batch_size = 4\n",
    "    embed_dim = 8\n",
    "    np.random.seed(42)\n",
    "    x = np.random.randn(batch_size, embed_dim).astype(np.float32)\n",
    "    emb = np.random.randn(batch_size, embed_dim).astype(np.float32)\n",
    "    ada_ln_numpy = AdaptiveLayerNormZeroNumpy(embed_dim, bias=True)\n",
    "    x_out, gate_msa, shift_mlp, scale_mlp, gate_mlp = ada_ln_numpy.forward(x, emb)\n",
    "    \n",
    "    print(\"Output after adaptive layer normalization (NumPy):\")\n",
    "    print(x_out)\n",
    "    print(\"gate_msa:\")\n",
    "    print(gate_msa)\n",
    "    print(\"shift_mlp:\")\n",
    "    print(shift_mlp)\n",
    "    print(\"scale_mlp:\")\n",
    "    print(scale_mlp)\n",
    "    print(\"gate_mlp:\")\n",
    "    print(gate_mlp)"
   ]
  },
  {
   "cell_type": "code",
   "execution_count": 214,
   "id": "2737d8c0-b890-4a63-b29b-5a37e6f07598",
   "metadata": {},
   "outputs": [],
   "source": [
    "# Adaptive Layer Normalization Pytorch (Main Implementation)\n",
    "import torch\n",
    "import torch.nn as nn\n",
    "import torch.nn.functional as F\n",
    "\n",
    "class AdaptiveLayerNormZeroTorch(nn.Module):\n",
    "    def __init__(self, embedding_dim, bias=True):\n",
    "        super().__init__()\n",
    "        self.embedding_dim = embedding_dim\n",
    "        self.bias_flag = bias\n",
    "        self.W = nn.Parameter(torch.randn(6 * embedding_dim, embedding_dim))\n",
    "        self.b = nn.Parameter(torch.randn(6 * embedding_dim)) if bias else None\n",
    "        self.eps = 1e-6\n",
    "\n",
    "    def linear(self, x):\n",
    "        out = F.linear(x, self.W, self.b)\n",
    "        return out\n",
    "\n",
    "    def forward(self, x, emb):\n",
    "        activated_emb = F.silu(emb)\n",
    "        lin_out = self.linear(activated_emb)\n",
    "        shift_msa, scale_msa, gate_msa, shift_mlp, scale_mlp, gate_mlp = torch.chunk(lin_out, 6, dim=-1)\n",
    "        mean = x.mean(dim=-1, keepdim=True)\n",
    "        var = x.var(dim=-1, unbiased=False, keepdim=True)\n",
    "        norm_x = (x - mean) / torch.sqrt(var + self.eps)\n",
    "        x_out = norm_x * (1 + scale_msa) + shift_msa\n",
    "        \n",
    "        return x_out, gate_msa, shift_mlp, scale_mlp, gate_mlp"
   ]
  },
  {
   "cell_type": "code",
   "execution_count": 215,
   "id": "180463ff-0114-42a0-85f3-fe087ad55f3b",
   "metadata": {},
   "outputs": [
    {
     "name": "stdout",
     "output_type": "stream",
     "text": [
      "Output after adaptive layer normalization (Torch):\n",
      "tensor([[-1.0641, -3.5341,  3.4647, -0.2473, -6.8416,  4.0018,  0.3171, -0.7442],\n",
      "        [ 3.6900,  5.9600,  3.2149, -0.1561,  2.0138,  6.3230, -0.1986,  1.6786],\n",
      "        [ 2.2520, -1.8810, -1.4966, -0.5699, -0.2448,  1.5351, -0.0150,  4.2630],\n",
      "        [ 0.9482, -2.1591,  0.9904,  3.9860,  6.2351,  0.8681,  3.5936,  0.2698]],\n",
      "       grad_fn=<AddBackward0>)\n",
      "gate_msa:\n",
      "tensor([[-4.0983, -0.9261,  1.3980,  1.5764, -1.7721, -0.9242, -2.3236, -1.3845],\n",
      "        [-4.7207,  0.5637,  0.0986,  3.1418, -1.9622, -2.1526, -0.4547, -1.8852],\n",
      "        [ 0.4681, -1.5951, -0.6640, -1.3623, -2.8250, -0.5248, -0.0517, -1.4985],\n",
      "        [-3.5972, -3.0065,  2.9711, -0.9779, -3.6447, -2.1877, -4.1187, -1.2627]],\n",
      "       grad_fn=<SplitBackward0>)\n",
      "shift_mlp:\n",
      "tensor([[ 1.4530,  0.9016,  1.9484, -1.7241,  2.3396, -1.3340, -1.6018,  1.7285],\n",
      "        [ 1.5122,  3.1788,  0.2101, -1.9482,  2.5912,  0.4057, -2.8164,  0.1947],\n",
      "        [-0.0411, -2.7350,  3.5817, -1.0404, -2.0246, -1.2074,  0.0632, -2.1798],\n",
      "        [-0.1729, -0.2714,  4.7996, -1.8356,  2.7292, -4.3490,  0.3705, -0.0571]],\n",
      "       grad_fn=<SplitBackward0>)\n",
      "scale_mlp:\n",
      "tensor([[ 1.4213,  0.1857,  0.6762,  0.2214,  3.7673, -1.3185, -0.3798,  0.5781],\n",
      "        [-2.0623,  0.7520, -1.3491, -0.5063,  1.1452,  0.5338, -3.4840, -1.2766],\n",
      "        [ 0.8865,  5.2957,  0.3821, -1.0337, -1.3728, -1.6636,  2.8397, -0.5572],\n",
      "        [ 4.2555,  0.2075,  1.7798,  0.7905,  6.0098, -4.0050,  1.0251,  0.3031]],\n",
      "       grad_fn=<SplitBackward0>)\n",
      "gate_mlp:\n",
      "tensor([[-0.7375,  1.8710, -0.6656,  3.1775,  1.9315,  2.1283, -0.8473,  0.5132],\n",
      "        [-0.4003,  2.1688, -2.1702,  0.8730,  1.4512,  3.7085, -0.9474,  0.0163],\n",
      "        [ 1.7635,  0.1037,  2.3344,  0.8298, -1.7202,  1.5900, -3.1122, -0.6953],\n",
      "        [-0.5379,  0.8710,  1.4542,  3.6691,  0.8369,  2.8347, -1.2957,  0.5656]],\n",
      "       grad_fn=<SplitBackward0>)\n"
     ]
    }
   ],
   "source": [
    "# Example usage\n",
    "\n",
    "if __name__ == \"__main__\":\n",
    "    batch_size = 4\n",
    "    embed_dim = 8\n",
    "    \n",
    "import torch\n",
    "import random\n",
    "import numpy as np\n",
    "\n",
    "torch.manual_seed(42)\n",
    "torch.cuda.manual_seed(42)\n",
    "torch.cuda.manual_seed_all(42)\n",
    "np.random.seed(42)\n",
    "random.seed(42)\n",
    "torch.backends.cudnn.deterministic = True\n",
    "torch.backends.cudnn.benchmark = False\n",
    "\n",
    "torch.random.seed()\n",
    "x = torch.randn(batch_size, embed_dim)\n",
    "emb = torch.randn(batch_size, embed_dim)\n",
    "ada_ln_torch = AdaptiveLayerNormZeroTorch(embed_dim, bias=True)\n",
    "x_out, gate_msa, shift_mlp, scale_mlp, gate_mlp = ada_ln_torch(x, emb)\n",
    "\n",
    "print(\"Output after adaptive layer normalization (Torch):\")\n",
    "print(x_out)\n",
    "print(\"gate_msa:\")\n",
    "print(gate_msa)\n",
    "print(\"shift_mlp:\")\n",
    "print(shift_mlp)\n",
    "print(\"scale_mlp:\")\n",
    "print(scale_mlp)\n",
    "print(\"gate_mlp:\")\n",
    "print(gate_mlp)"
   ]
  },
  {
   "cell_type": "code",
   "execution_count": 240,
   "id": "12dd9886-3e40-4a19-9326-05f5d5425283",
   "metadata": {},
   "outputs": [],
   "source": [
    "# Adaptive Layer Normalization NNtile (Main Implementation)\n",
    "import numpy as np\n",
    "from nntile.functions import (silu_forward_async, add_slice_async, prod_slice_async, transpose_async, prod_async, add_inplace_async, add_async)\n",
    "\n",
    "\n",
    "def layer_norm(x, axis=-1, eps=1e-6):\n",
    "    mean = np.mean(x, axis=axis, keepdims=True)\n",
    "    mean1 = mean.reshape(mean.shape[:-1])\n",
    "    mean_nnt = nntc.from_array(mean1)\n",
    "    tmp_y = nntc.from_array(np.random.randn(batch_size, embed_dim))\n",
    "    iv_std = 1.0/np.sqrt(np.var(x, axis=-1, keepdims=True)+1e-5)\n",
    "    iv_std1 = iv_std.reshape(iv_std.shape[:-1])\n",
    "    iv_std_nnt = nntc.from_array(iv_std1)\n",
    "    x_nnt = nntc.from_array(x)\n",
    "    tmp_y_nnt = nntc.from_array(tmp_y)\n",
    "    add_slice_async(-1.0, mean_nnt, 1.0, x_nnt, tmp_y_nnt, len(x.shape)-1)\n",
    "    prod_slice_async(iv_std_nnt, 1.0, tmp_y_nnt, len(x.shape)-1)\n",
    "    return tmp_y_nnt\n",
    "\n",
    "class AdaptiveLayerNormZeroNNtile:\n",
    "    def __init__(self, embedding_dim, bias=True):\n",
    "        np.random.seed(42)\n",
    "        self.embedding_dim = embedding_dim\n",
    "        self.bias_flag = bias\n",
    "        self.W = nntc.from_array(np.random.randn(embedding_dim, embedding_dim).astype(np.float32))\n",
    "        self.W_T = nntc.from_array(np.transpose(np.random.randn(embedding_dim, embedding_dim)).astype(np.float32))\n",
    "        if bias:\n",
    "            self.b = nntc.from_array(np.random.randn(embedding_dim).astype(np.float32))\n",
    "        else:\n",
    "            self.b = None\n",
    "\n",
    "    def linear(self, x):\n",
    "        #x_nnt = nntc.from_array(x)\n",
    "        out_nnt = nntc.from_array(np.random.randn(batch_size,embed_dim).astype(np.float32))\n",
    "        #x_nnt1 = nntc.from_array(np.random.randn(batch_size, 6*embed_dim).astype(np.float32))\n",
    "        #transpose_async(1.0, self.W, self.W_T, self.W.ndim)\n",
    "        #prod_slice_async(self.W, 1.0, x, len(x.shape)-1)\n",
    "        prod_async(x, self.W_T, out_nnt)\n",
    "        if self.bias_flag and self.b is not None:\n",
    "            add_inplace_async(1.0, self.b, 1.0, out_nnt)\n",
    "        return out_nnt\n",
    "\n",
    "    def forward(self, x, emb):\n",
    "        x_nnt = nntc.from_array(x)\n",
    "        emb_nnt = nntc.from_array(emb)\n",
    "        emb_nnt_silu = nntc.from_array(emb)\n",
    "        #emb_nnt_silu = nntc.from_array(np.random.randn(batch_size, embed_dim).astype(np.float32))\n",
    "        silu_forward_async(emb_nnt, emb_nnt_silu)\n",
    "        shift_msa_nnt = self.linear(emb_nnt_silu)\n",
    "        scale_msa_nnt = self.linear(emb_nnt_silu)\n",
    "        gate_msa_np = nntc.to_numpy(self.linear(emb_nnt_silu))\n",
    "        shift_mlp_np = nntc.to_numpy(self.linear(emb_nnt_silu))\n",
    "        scale_mlp_np = nntc.to_numpy(self.linear(emb_nnt_silu))\n",
    "        gate_mlp_np = nntc.to_numpy(self.linear(emb_nnt_silu))\n",
    "        norm_x = layer_norm(x, axis=-1, eps=1e-6)\n",
    "        scale_msa_tmp = nntc.from_array(np.random.randn(batch_size, embedding_dim).astype(np.float32))\n",
    "        prod_async(norm_x,scale_msa, scale_msa_tmp)\n",
    "        add_inplace_async(1.0,scale_msa_tmp, 1.0,norm_x)\n",
    "        x_out = nntc.from_array(np.random.randn(batch_size, embedding_dim).astype(np.float32))\n",
    "        add_async(1.0,shift_msa, 1.0,norm_x,x_out)\n",
    "        x_out_np = nntc.to_numpy(x_out)       \n",
    "        return x_out_np, gate_msa_np, shift_mlp_np, scale_mlp_np, gate_mlp_np"
   ]
  },
  {
   "cell_type": "code",
   "execution_count": 241,
   "id": "5b70d4ba-eaa0-442b-abec-b71680599411",
   "metadata": {},
   "outputs": [
    {
     "ename": "RuntimeError",
     "evalue": "src1.shape != src2.shape",
     "output_type": "error",
     "traceback": [
      "\u001b[0;31m---------------------------------------------------------------------------\u001b[0m",
      "\u001b[0;31mRuntimeError\u001b[0m                              Traceback (most recent call last)",
      "Cell \u001b[0;32mIn[241], line 11\u001b[0m\n\u001b[1;32m      9\u001b[0m emb \u001b[38;5;241m=\u001b[39m np\u001b[38;5;241m.\u001b[39mrandom\u001b[38;5;241m.\u001b[39mrandn(batch_size, embed_dim)\u001b[38;5;241m.\u001b[39mastype(np\u001b[38;5;241m.\u001b[39mfloat32)\n\u001b[1;32m     10\u001b[0m ada_ln_nntile \u001b[38;5;241m=\u001b[39m AdaptiveLayerNormZeroNNtile(embed_dim, bias\u001b[38;5;241m=\u001b[39m\u001b[38;5;28;01mTrue\u001b[39;00m)\n\u001b[0;32m---> 11\u001b[0m x_out_np, gate_msa, shift_mlp, scale_mlp, gate_mlp \u001b[38;5;241m=\u001b[39m \u001b[43mada_ln_nntile\u001b[49m\u001b[38;5;241;43m.\u001b[39;49m\u001b[43mforward\u001b[49m\u001b[43m(\u001b[49m\u001b[43mx\u001b[49m\u001b[43m,\u001b[49m\u001b[43m \u001b[49m\u001b[43memb\u001b[49m\u001b[43m)\u001b[49m\n\u001b[1;32m     13\u001b[0m \u001b[38;5;28mprint\u001b[39m(\u001b[38;5;124m\"\u001b[39m\u001b[38;5;124mOutput after adaptive layer normalization (NNtile):\u001b[39m\u001b[38;5;124m\"\u001b[39m)\n\u001b[1;32m     14\u001b[0m \u001b[38;5;28mprint\u001b[39m(x_out)\n",
      "Cell \u001b[0;32mIn[240], line 49\u001b[0m, in \u001b[0;36mAdaptiveLayerNormZeroNNtile.forward\u001b[0;34m(self, x, emb)\u001b[0m\n\u001b[1;32m     47\u001b[0m \u001b[38;5;66;03m#emb_nnt_silu = nntc.from_array(np.random.randn(batch_size, embed_dim).astype(np.float32))\u001b[39;00m\n\u001b[1;32m     48\u001b[0m silu_forward_async(emb_nnt, emb_nnt_silu)\n\u001b[0;32m---> 49\u001b[0m shift_msa_nnt \u001b[38;5;241m=\u001b[39m \u001b[38;5;28;43mself\u001b[39;49m\u001b[38;5;241;43m.\u001b[39;49m\u001b[43mlinear\u001b[49m\u001b[43m(\u001b[49m\u001b[43memb_nnt_silu\u001b[49m\u001b[43m)\u001b[49m\n\u001b[1;32m     50\u001b[0m scale_msa_nnt \u001b[38;5;241m=\u001b[39m \u001b[38;5;28mself\u001b[39m\u001b[38;5;241m.\u001b[39mlinear(emb_nnt_silu)\n\u001b[1;32m     51\u001b[0m gate_msa_np \u001b[38;5;241m=\u001b[39m nntc\u001b[38;5;241m.\u001b[39mto_numpy(\u001b[38;5;28mself\u001b[39m\u001b[38;5;241m.\u001b[39mlinear(emb_nnt_silu))\n",
      "Cell \u001b[0;32mIn[240], line 38\u001b[0m, in \u001b[0;36mAdaptiveLayerNormZeroNNtile.linear\u001b[0;34m(self, x)\u001b[0m\n\u001b[1;32m     34\u001b[0m out_nnt \u001b[38;5;241m=\u001b[39m nntc\u001b[38;5;241m.\u001b[39mfrom_array(np\u001b[38;5;241m.\u001b[39mrandom\u001b[38;5;241m.\u001b[39mrandn(batch_size,embed_dim)\u001b[38;5;241m.\u001b[39mastype(np\u001b[38;5;241m.\u001b[39mfloat32))\n\u001b[1;32m     35\u001b[0m \u001b[38;5;66;03m#x_nnt1 = nntc.from_array(np.random.randn(batch_size, 6*embed_dim).astype(np.float32))\u001b[39;00m\n\u001b[1;32m     36\u001b[0m \u001b[38;5;66;03m#transpose_async(1.0, self.W, self.W_T, self.W.ndim)\u001b[39;00m\n\u001b[1;32m     37\u001b[0m \u001b[38;5;66;03m#prod_slice_async(self.W, 1.0, x, len(x.shape)-1)\u001b[39;00m\n\u001b[0;32m---> 38\u001b[0m \u001b[43mprod_async\u001b[49m\u001b[43m(\u001b[49m\u001b[43mx\u001b[49m\u001b[43m,\u001b[49m\u001b[43m \u001b[49m\u001b[38;5;28;43mself\u001b[39;49m\u001b[38;5;241;43m.\u001b[39;49m\u001b[43mW_T\u001b[49m\u001b[43m,\u001b[49m\u001b[43m \u001b[49m\u001b[43mout_nnt\u001b[49m\u001b[43m)\u001b[49m\n\u001b[1;32m     39\u001b[0m \u001b[38;5;28;01mif\u001b[39;00m \u001b[38;5;28mself\u001b[39m\u001b[38;5;241m.\u001b[39mbias_flag \u001b[38;5;129;01mand\u001b[39;00m \u001b[38;5;28mself\u001b[39m\u001b[38;5;241m.\u001b[39mb \u001b[38;5;129;01mis\u001b[39;00m \u001b[38;5;129;01mnot\u001b[39;00m \u001b[38;5;28;01mNone\u001b[39;00m:\n\u001b[1;32m     40\u001b[0m     add_inplace_async(\u001b[38;5;241m1.0\u001b[39m, \u001b[38;5;28mself\u001b[39m\u001b[38;5;241m.\u001b[39mb, \u001b[38;5;241m1.0\u001b[39m, out_nnt)\n",
      "File \u001b[0;32m/workspace/nntile/build/wrappers/python/nntile/functions.py:785\u001b[0m, in \u001b[0;36mprod_async\u001b[0;34m(x, y, z)\u001b[0m\n\u001b[1;32m    783\u001b[0m     \u001b[38;5;28;01mraise\u001b[39;00m \u001b[38;5;167;01mTypeError\u001b[39;00m\n\u001b[1;32m    784\u001b[0m \u001b[38;5;28;01mif\u001b[39;00m \u001b[38;5;28mtype\u001b[39m(x) \u001b[38;5;129;01mis\u001b[39;00m core_tensor\u001b[38;5;241m.\u001b[39mTensor_fp32:\n\u001b[0;32m--> 785\u001b[0m     \u001b[43mcore_tensor\u001b[49m\u001b[38;5;241;43m.\u001b[39;49m\u001b[43mprod_async_fp32\u001b[49m\u001b[43m(\u001b[49m\u001b[43mx\u001b[49m\u001b[43m,\u001b[49m\u001b[43m \u001b[49m\u001b[43my\u001b[49m\u001b[43m,\u001b[49m\u001b[43m \u001b[49m\u001b[43mz\u001b[49m\u001b[43m)\u001b[49m\n\u001b[1;32m    786\u001b[0m \u001b[38;5;28;01melif\u001b[39;00m \u001b[38;5;28mtype\u001b[39m(x) \u001b[38;5;129;01mis\u001b[39;00m core_tensor\u001b[38;5;241m.\u001b[39mTensor_fp32_fast_tf32:\n\u001b[1;32m    787\u001b[0m     core_tensor\u001b[38;5;241m.\u001b[39mprod_async_fp32_fast_tf32(x, y, z)\n",
      "\u001b[0;31mRuntimeError\u001b[0m: src1.shape != src2.shape"
     ]
    }
   ],
   "source": [
    "import numpy as np\n",
    "\n",
    "if __name__ == \"__main__\":\n",
    "  \n",
    "    batch_size = 4\n",
    "    embed_dim = 8\n",
    "    np.random.seed(42)\n",
    "    x = np.random.randn(batch_size, embed_dim).astype(np.float32)\n",
    "    emb = np.random.randn(batch_size, embed_dim).astype(np.float32)\n",
    "    ada_ln_nntile = AdaptiveLayerNormZeroNNtile(embed_dim, bias=True)\n",
    "    x_out_np, gate_msa, shift_mlp, scale_mlp, gate_mlp = ada_ln_nntile.forward(x, emb)\n",
    "    \n",
    "    print(\"Output after adaptive layer normalization (NNtile):\")\n",
    "    print(x_out)\n",
    "    print(\"gate_msa:\")\n",
    "    print(gate_msa)\n",
    "    print(\"shift_mlp:\")\n",
    "    print(shift_mlp)\n",
    "    print(\"scale_mlp:\")\n",
    "    print(scale_mlp)\n",
    "    print(\"gate_mlp:\")\n",
    "    print(gate_mlp)"
   ]
  }
 ],
 "metadata": {
  "kernelspec": {
   "display_name": "Python 3 (ipykernel)",
   "language": "python",
   "name": "python3"
  },
  "language_info": {
   "codemirror_mode": {
    "name": "ipython",
    "version": 3
   },
   "file_extension": ".py",
   "mimetype": "text/x-python",
   "name": "python",
   "nbconvert_exporter": "python",
   "pygments_lexer": "ipython3",
   "version": "3.10.12"
  }
 },
 "nbformat": 4,
 "nbformat_minor": 5
}
